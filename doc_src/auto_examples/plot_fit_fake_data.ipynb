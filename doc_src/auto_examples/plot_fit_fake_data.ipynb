{
  "cells": [
    {
      "cell_type": "code",
      "execution_count": null,
      "metadata": {
        "collapsed": false
      },
      "outputs": [],
      "source": [
        "%matplotlib inline"
      ]
    },
    {
      "cell_type": "markdown",
      "metadata": {},
      "source": [
        "\n# Example for fitdata function\nThis example creates fake data with noise\nthen fits the exponential with the fitdata\nfunction.\n"
      ]
    },
    {
      "cell_type": "code",
      "execution_count": null,
      "metadata": {
        "collapsed": false
      },
      "outputs": [],
      "source": [
        "from pyspecdata import *\nfrom pyspecdata import fitdata \nfrom sympy import symbols\nimport numpy as np"
      ]
    },
    {
      "cell_type": "markdown",
      "metadata": {},
      "source": [
        "creating a fake data recovery curve\n\n"
      ]
    },
    {
      "cell_type": "code",
      "execution_count": null,
      "metadata": {
        "collapsed": false
      },
      "outputs": [],
      "source": [
        "tau = nddata(r_[0:2:100j], 'tau')\nfake_data = 102*(1-2*exp(-tau*6.0))\nfake_data.add_noise(5.0)"
      ]
    },
    {
      "cell_type": "markdown",
      "metadata": {},
      "source": [
        "fitting data\n\n"
      ]
    },
    {
      "cell_type": "code",
      "execution_count": null,
      "metadata": {
        "collapsed": false
      },
      "outputs": [],
      "source": [
        "f = fitdata(fake_data)\nM0,Mi,R1,vd = sympy.symbols(\"M_0 M_inf R_1 tau\",real=True)\nf.functional_form = Mi + (M0-Mi)*sympy.exp(-vd*R1)\nlogger.info(strm(\"Functional Form\", f.functional_form))\nlogger.info(strm(\"Functional Form\", f.functional_form))\nf.set_guess({M0:-500, Mi:500, R1:2})\nf.settoguess()\nguess = f.eval(100)\nf.fit()\nprint(\"output:\",f.output())\nprint(\"latex:\",f.latex())\nT1 = 1./f.output('R_1')\nwith figlist_var() as fl: \n    fl.next('fit with guess')\n    fl.plot(fake_data,'o',label='fake data')\n    fl.plot(f.eval(100),label='fit')\n    fl.plot(guess,label='guess')"
      ]
    }
  ],
  "metadata": {
    "kernelspec": {
      "display_name": "Python 3",
      "language": "python",
      "name": "python3"
    },
    "language_info": {
      "codemirror_mode": {
        "name": "ipython",
        "version": 3
      },
      "file_extension": ".py",
      "mimetype": "text/x-python",
      "name": "python",
      "nbconvert_exporter": "python",
      "pygments_lexer": "ipython3",
      "version": "3.7.4"
    }
  },
  "nbformat": 4,
  "nbformat_minor": 0
}